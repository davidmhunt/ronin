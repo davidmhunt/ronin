{
 "cells": [
  {
   "cell_type": "markdown",
   "metadata": {},
   "source": [
    "# Run RoNIN on RoNIN's dataset\n",
    "### this works on the cpsl server from the Terminal at the /peter directory"
   ]
  },
  {
   "cell_type": "code",
   "execution_count": 5,
   "metadata": {},
   "outputs": [],
   "source": [
    "# python ./ronin/ronin/ronin_resnet.py --mode test --test_list ./ronin/lists/SHORT_list_test_unseen.txt --root_dir ./ronin_dataset/unseen_subjects_test_set --out_dir ./ronin/output/resnet_out --model_path ./ronin/ronin/models/ronin_resnet/checkpoint_gsn_latest.pt"
   ]
  },
  {
   "cell_type": "markdown",
   "metadata": {},
   "source": [
    "#### this works on Peter's personal machine"
   ]
  },
  {
   "cell_type": "code",
   "execution_count": 6,
   "metadata": {},
   "outputs": [],
   "source": [
    "#python ./SF-code/ronin/source/ronin_resnet.py --mode test --test_list ./SF-code/ronin/lists/SHORT_list_test_unseen.txt --root_dir ./FRDR/Data/unseen_subjects_test_set --out_dir ./output/resnet_out --model_path ./SF-code/ronin_resnet/checkpoint_gsn_latest.pt"
   ]
  },
  {
   "cell_type": "markdown",
   "metadata": {},
   "source": [
    "---"
   ]
  },
  {
   "cell_type": "markdown",
   "metadata": {},
   "source": [
    "# Run RoNIN on CPSL data"
   ]
  },
  {
   "cell_type": "code",
   "execution_count": 5,
   "metadata": {},
   "outputs": [],
   "source": [
    "import numpy as np\n",
    "from dotenv import load_dotenv\n",
    "import os\n",
    "import importlib.util\n",
    "\n",
    "module_name = 'CpslDS'\n",
    "module_path = '/home/peter/cpsl_datasets/cpsl_datasets/cpsl_ds.py'\n",
    "spec = importlib.util.spec_from_file_location(module_name, module_path)\n",
    "cpsl_datasets = importlib.util.module_from_spec(spec)\n",
    "spec.loader.exec_module(cpsl_datasets)\n",
    "# from cpsl_datasets.cpsl_datasets import CpslDS    # no longer needed as we are using the module\n"
   ]
  },
  {
   "cell_type": "markdown",
   "metadata": {},
   "source": []
  },
  {
   "cell_type": "code",
   "execution_count": null,
   "metadata": {},
   "outputs": [],
   "source": [
    "# python ./ronin/ronin/ronin_resnet.py --mode test --test_list ./ronin/lists/SHORT_list_test_unseen.txt --root_dir ./ronin_dataset/unseen_subjects_test_set --out_dir ./ronin/output/resnet_out --model_path ./ronin/ronin/models/ronin_resnet/checkpoint_gsn_latest.pt"
   ]
  },
  {
   "cell_type": "code",
   "execution_count": null,
   "metadata": {},
   "outputs": [
    {
     "name": "stdout",
     "output_type": "stream",
     "text": [
      "Array shape: (31, 7)\n",
      "Array dtype: float64\n",
      "First few elements of the array:\n",
      "[[ 1.72591561e+09 -1.49115929e-02  2.28047371e-02  1.30489478e-02\n",
      "  -1.21334657e-01  1.09100841e-01  9.84567070e+00]\n",
      " [ 1.72591561e+09 -1.49115929e-02  2.28047371e-02  1.30489478e-02\n",
      "  -1.21334657e-01  1.09100841e-01  9.84567070e+00]\n",
      " [ 1.72591561e+09 -1.49115929e-02  2.28047371e-02  1.30489478e-02\n",
      "  -1.21334657e-01  1.09100841e-01  9.84567070e+00]\n",
      " [ 1.72591561e+09 -3.59266996e-03  1.54897580e-02 -1.41561031e-03\n",
      "  -9.84706879e-02  1.21856920e-01  9.78396797e+00]\n",
      " [ 1.72591561e+09 -3.59266996e-03  1.54897580e-02 -1.41561031e-03\n",
      "  -9.84706879e-02  1.21856920e-01  9.78396797e+00]]\n",
      "Array summary:\n",
      "Min value: -0.19662259519100192\n",
      "Max value: 1725915614.926728\n",
      "Mean value: 246559374.94193256\n",
      "Standard deviation: 603944655.9227983\n"
     ]
    }
   ],
   "source": [
    "\n",
    "\n",
    "# pull in /data/radnav/rad_nav_datasets/WILK_nav/wilk_nav_1/imu_data_full/frame_10001.npy to a numpy array\n",
    "\n",
    "# Load Numpy Array from File\n",
    "file_path = '/data/radnav/rad_nav_datasets/WILK_nav/wilk_nav_1/imu_data_full/frame_10001.npy'  # Define the file path\n",
    "data_array = np.load(file_path)  # Load the .npy file into a numpy array\n",
    "\n",
    "# Display the shape and type of the loaded array\n",
    "print(f\"Array shape: {data_array.shape}\")\n",
    "print(f\"Array dtype: {data_array.dtype}\")\n",
    "\n",
    "# Inspect the Loaded Array\n",
    "\n",
    "# Display the first few elements of the array to get an idea of its contents\n",
    "print(\"First few elements of the array:\")\n",
    "print(data_array[:5])\n",
    "\n",
    "# Display the entire array if it is small, otherwise display its summary\n",
    "if data_array.size <= 100:\n",
    "    print(\"Array contents:\")\n",
    "    print(data_array)\n",
    "else:\n",
    "    print(\"Array summary:\")\n",
    "    print(f\"Min value: {data_array.min()}\")\n",
    "    print(f\"Max value: {data_array.max()}\")\n",
    "    print(f\"Mean value: {data_array.mean()}\")\n",
    "    print(f\"Standard deviation: {data_array.std()}\")\n",
    "\n",
    "\n",
    "\n"
   ]
  },
  {
   "cell_type": "markdown",
   "metadata": {},
   "source": [
    "# To Pull IMU data"
   ]
  },
  {
   "cell_type": "code",
   "execution_count": 18,
   "metadata": {},
   "outputs": [
    {
     "name": "stdout",
     "output_type": "stream",
     "text": [
      "/data/radnav/rad_nav_datasets/WILK_nav/wilk_nav_1\n",
      "found 999 radar samples\n",
      "found 999 lidar samples\n",
      "found 999 camera samples\n",
      "found 999 imu (orientation only) samples\n",
      "found 999imu (full data) samples\n",
      "found 999 vehicle velocity samples\n",
      "(27, 7)\n",
      "[[ 1.72591584e+09  1.65492315e-02 -2.12073326e-02  1.09465443e-01\n",
      "   8.93262923e-02  4.09801632e-01  9.85499191e+00]\n",
      " [ 1.72591584e+09  1.65492315e-02 -2.12073326e-02  1.09465443e-01\n",
      "   8.93262923e-02  4.09801632e-01  9.85499191e+00]\n",
      " [ 1.72591584e+09  4.94718668e-04  1.02579622e-02  8.43480229e-02\n",
      "   7.76964277e-02  2.47081444e-01  1.03301477e+01]\n",
      " [ 1.72591584e+09  4.94718668e-04  1.02579622e-02  8.43480229e-02\n",
      "   7.76964277e-02  2.47081444e-01  1.03301477e+01]\n",
      " [ 1.72591584e+09 -3.72379925e-03  5.21317087e-02  1.12777919e-01\n",
      "  -1.83857873e-01  2.15195239e-01  9.53157616e+00]\n",
      " [ 1.72591584e+09  9.24765971e-03  5.97804710e-02 -6.68525621e-02\n",
      "  -1.00267923e+00  5.78104258e-01  1.00273418e+01]\n",
      " [ 1.72591584e+09  9.24765971e-03  5.97804710e-02 -6.68525621e-02\n",
      "  -1.00267923e+00  5.78104258e-01  1.00273418e+01]\n",
      " [ 1.72591584e+09  9.24765971e-03  5.97804710e-02 -6.68525621e-02\n",
      "  -1.00267923e+00  5.78104258e-01  1.00273418e+01]\n",
      " [ 1.72591584e+09  9.24765971e-03  5.97804710e-02 -6.68525621e-02\n",
      "  -1.00267923e+00  5.78104258e-01  1.00273418e+01]\n",
      " [ 1.72591584e+09  8.64267349e-03  3.30060758e-02 -1.23959802e-01\n",
      "  -1.04527640e+00  5.96480191e-01  9.41003609e+00]\n",
      " [ 1.72591584e+09  1.73479337e-02 -2.52470374e-02 -1.27513722e-01\n",
      "  -1.02185798e+00  1.46658838e-01  8.92489815e+00]\n",
      " [ 1.72591584e+09 -5.87254809e-03 -3.95834446e-02 -1.01847954e-01\n",
      "  -5.09408295e-01  1.53816625e-01  8.55511856e+00]\n",
      " [ 1.72591584e+09 -5.87254809e-03 -3.95834446e-02 -1.01847954e-01\n",
      "  -5.09408295e-01  1.53816625e-01  8.55511856e+00]\n",
      " [ 1.72591584e+09 -5.87254809e-03 -3.95834446e-02 -1.01847954e-01\n",
      "  -5.09408295e-01  1.53816625e-01  8.55511856e+00]\n",
      " [ 1.72591584e+09  8.47876130e-04 -2.63750590e-02 -2.72482634e-02\n",
      "  -2.24673510e-01 -5.52124865e-02  9.70914650e+00]\n",
      " [ 1.72591584e+09 -7.74115324e-03 -1.49726896e-02  1.33290906e-02\n",
      "  -1.14261590e-01 -2.29454368e-01  9.45344543e+00]\n",
      " [ 1.72591584e+09 -1.49771599e-02 -2.86668576e-02  4.74005975e-02\n",
      "  -2.30882186e-02 -1.36233658e-01  9.65958500e+00]\n",
      " [ 1.72591584e+09 -1.78471208e-02 -3.47256698e-02  2.46375836e-02\n",
      "  -1.33743539e-01 -1.99237168e-01  9.99758530e+00]\n",
      " [ 1.72591584e+09 -6.32554432e-03 -5.62965870e-03  7.14600161e-02\n",
      "  -6.60602450e-02  1.52087752e-02  9.94030952e+00]\n",
      " [ 1.72591584e+09  1.65700924e-03 -3.11344862e-02  5.76928295e-02\n",
      "   2.53410544e-02  8.14881995e-02  1.01503830e+01]\n",
      " [ 1.72591584e+09 -1.86949931e-02  1.23679638e-04  6.58765510e-02\n",
      "   1.40613183e-01  3.79417598e-01  9.87206078e+00]\n",
      " [ 1.72591584e+09 -1.52438867e-03 -2.56747007e-02  5.91591038e-02\n",
      "   4.38141525e-02  3.11390311e-01  9.84957027e+00]\n",
      " [ 1.72591584e+09 -1.52438867e-03 -2.56747007e-02  5.91591038e-02\n",
      "   4.38141525e-02  3.11390311e-01  9.84957027e+00]\n",
      " [ 1.72591584e+09 -1.29461298e-02 -2.59250402e-02  3.04669123e-02\n",
      "  -1.89103093e-02  4.68990892e-01  9.50742817e+00]\n",
      " [ 1.72591584e+09 -1.88812613e-02 -6.60270546e-03 -1.02847824e-02\n",
      "   1.10495999e-01  4.91245687e-01  9.48672676e+00]\n",
      " [ 1.72591584e+09 -1.18941078e-02 -4.10676003e-03 -1.66177768e-02\n",
      "  -1.74883045e-02  5.26986897e-01  9.65096760e+00]\n",
      " [ 1.72591584e+09 -2.69606709e-02 -9.89437103e-04 -1.91703457e-02\n",
      "   1.15919113e-01  3.79690021e-01  9.77305317e+00]]\n"
     ]
    }
   ],
   "source": [
    "\n",
    "\n",
    "#loading environment variables\n",
    "\n",
    "load_dotenv()\n",
    "DATASET_PATH= \"/data/radnav/rad_nav_datasets\"\n",
    "folder_name = \"WILK_nav/wilk_nav_1/imu_data_full/\"\n",
    "file_name = \"frame_10001\"\n",
    "PATH = os.path.join(DATASET_PATH, folder_name, file_name + \".npy\")\n",
    "PATH = \"/data/radnav/rad_nav_datasets/WILK_nav/wilk_nav_1\"\n",
    "print(PATH)\n",
    "\n",
    "dataset = cpsl_datasets.CpslDS(\n",
    "    dataset_path=PATH, #_spin_recall\n",
    "    radar_folder=\"radar_combined\",\n",
    "    lidar_folder=\"lidar\",\n",
    "    camera_folder=\"camera\",\n",
    "    imu_orientation_folder=\"imu_data\",\n",
    "    imu_full_folder=\"imu_data_full\",\n",
    "    vehicle_vel_folder=\"vehicle_vel\"\n",
    ")\n",
    "\n",
    "frame_idx = 900\n",
    "imu_data_raw = dataset.get_imu_full_data(idx=frame_idx)\n",
    "print(imu_data_raw.shape)\n",
    "print(imu_data_raw)\n"
   ]
  },
  {
   "cell_type": "markdown",
   "metadata": {},
   "source": [
    "# IMU Data Format\n",
    "[row, col]\n",
    "\n",
    "row = ???"
   ]
  },
  {
   "cell_type": "code",
   "execution_count": null,
   "metadata": {},
   "outputs": [],
   "source": []
  }
 ],
 "metadata": {
  "kernelspec": {
   "display_name": "base",
   "language": "python",
   "name": "python3"
  },
  "language_info": {
   "codemirror_mode": {
    "name": "ipython",
    "version": 3
   },
   "file_extension": ".py",
   "mimetype": "text/x-python",
   "name": "python",
   "nbconvert_exporter": "python",
   "pygments_lexer": "ipython3",
   "version": "3.12.2"
  }
 },
 "nbformat": 4,
 "nbformat_minor": 2
}
