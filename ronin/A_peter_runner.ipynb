{
 "cells": [
  {
   "cell_type": "markdown",
   "metadata": {},
   "source": [
    "hi"
   ]
  },
  {
   "cell_type": "code",
   "execution_count": null,
   "metadata": {},
   "outputs": [],
   "source": []
  },
  {
   "cell_type": "code",
   "execution_count": null,
   "metadata": {},
   "outputs": [],
   "source": [
    "# this works on Peter's personal machine\n",
    "python ./SF-code/ronin/source/ronin_resnet.py --mode test --test_list ./SF-code/ronin/lists/SHORT_list_test_unseen.txt --root_dir ./FRDR/Data/unseen_subjects_test_set --out_dir ./output/resnet_out --model_path ./SF-code/ronin_resnet/checkpoint_gsn_latest.pt\n",
    "\n",
    "# this works on the server from the Terminal at the /peter direcotry\n",
    "python ./ronin/ronin/ronin_resnet.py --mode test --test_list ./ronin/lists/SHORT_list_test_unseen.txt --root_dir ./ronin_dataset/unseen_subjects_test_set --out_dir ./ronin/output/resnet_out --model_path ./ronin/ronin/models/ronin_resnet/checkpoint_gsn_latest.pt\n"
   ]
  }
 ],
 "metadata": {
  "kernelspec": {
   "display_name": "base",
   "language": "python",
   "name": "python3"
  },
  "language_info": {
   "name": "python",
   "version": "3.12.7"
  }
 },
 "nbformat": 4,
 "nbformat_minor": 2
}
