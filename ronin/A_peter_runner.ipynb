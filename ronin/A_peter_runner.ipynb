{
 "cells": [
  {
   "cell_type": "markdown",
   "metadata": {},
   "source": [
    "# Run RoNIN on RoNIN's dataset\n",
    "### this works on the cpsl server from the Terminal at the /peter directory"
   ]
  },
  {
   "cell_type": "code",
   "execution_count": 5,
   "metadata": {},
   "outputs": [],
   "source": [
    "# python ./ronin/ronin/ronin_resnet.py --mode test --test_list ./ronin/lists/SHORT_list_test_unseen.txt --root_dir ./ronin_dataset/unseen_subjects_test_set --out_dir ./ronin/output/resnet_out --model_path ./ronin/ronin/models/ronin_resnet/checkpoint_gsn_latest.pt"
   ]
  },
  {
   "cell_type": "markdown",
   "metadata": {},
   "source": [
    "#### this works on Peter's personal machine"
   ]
  },
  {
   "cell_type": "code",
   "execution_count": 6,
   "metadata": {},
   "outputs": [],
   "source": [
    "#python ./SF-code/ronin/source/ronin_resnet.py --mode test --test_list ./SF-code/ronin/lists/SHORT_list_test_unseen.txt --root_dir ./FRDR/Data/unseen_subjects_test_set --out_dir ./output/resnet_out --model_path ./SF-code/ronin_resnet/checkpoint_gsn_latest.pt"
   ]
  },
  {
   "cell_type": "markdown",
   "metadata": {},
   "source": [
    "---"
   ]
  },
  {
   "cell_type": "markdown",
   "metadata": {},
   "source": [
    "# Run RoNIN on CPSL data"
   ]
  },
  {
   "cell_type": "code",
   "execution_count": null,
   "metadata": {},
   "outputs": [],
   "source": [
    "# python ./ronin/ronin/ronin_resnet.py --mode test --test_list ./ronin/lists/SHORT_list_test_unseen.txt --root_dir ./ronin_dataset/unseen_subjects_test_set --out_dir ./ronin/output/resnet_out --model_path ./ronin/ronin/models/ronin_resnet/checkpoint_gsn_latest.pt"
   ]
  },
  {
   "cell_type": "code",
   "execution_count": null,
   "metadata": {},
   "outputs": [],
   "source": [
    "import numpy as np\n",
    "\n",
    "\n",
    "\n",
    "\n",
    "\n"
   ]
  }
 ],
 "metadata": {
  "kernelspec": {
   "display_name": "base",
   "language": "python",
   "name": "python3"
  },
  "language_info": {
   "codemirror_mode": {
    "name": "ipython",
    "version": 3
   },
   "file_extension": ".py",
   "mimetype": "text/x-python",
   "name": "python",
   "nbconvert_exporter": "python",
   "pygments_lexer": "ipython3",
   "version": "3.12.2"
  }
 },
 "nbformat": 4,
 "nbformat_minor": 2
}
